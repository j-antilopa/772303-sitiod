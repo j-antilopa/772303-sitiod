{
 "cells": [
  {
   "cell_type": "markdown",
   "metadata": {},
   "source": [
    "[Lab 5](#Lab-5)<br/>\n",
    "[Lab 6](#Lab-6)<br/>\n",
    "[Lab 7](#Lab-7)<br/>\n",
    "[Lab 8](#Lab-8)"
   ]
  },
  {
   "cell_type": "markdown",
   "metadata": {},
   "source": [
    "# Lab 5\n",
    "\n",
    "Задание:\n",
    "\n",
    "1. Создать вектор из 20 элементов.\n",
    "\n",
    "2. Реализовать операции сложения, умножения вектора с числом.\n",
    "\n",
    "3. Продемонстрировать работу функций с ветором: sum, max, min, prod, length, mean, var, sort, summary.\n"
   ]
  },
  {
   "cell_type": "code",
   "execution_count": 1,
   "metadata": {},
   "outputs": [],
   "source": [
    "import numpy as np\n",
    "import pandas as pd\n",
    "import matplotlib.pyplot as plt"
   ]
  },
  {
   "cell_type": "code",
   "execution_count": 2,
   "metadata": {
    "scrolled": true
   },
   "outputs": [
    {
     "name": "stdout",
     "output_type": "stream",
     "text": [
      "Seq\n",
      "0      0.000000\n",
      "1      2.631579\n",
      "2      5.263158\n",
      "3      7.894737\n",
      "4     10.526316\n",
      "5     13.157895\n",
      "6     15.789474\n",
      "7     18.421053\n",
      "8     21.052632\n",
      "9     23.684211\n",
      "10    26.315789\n",
      "11    28.947368\n",
      "12    31.578947\n",
      "13    34.210526\n",
      "14    36.842105\n",
      "15    39.473684\n",
      "16    42.105263\n",
      "17    44.736842\n",
      "18    47.368421\n",
      "19    50.000000\n",
      "dtype: float64\n",
      "\n",
      "Seq+num\n",
      "0      2.000000\n",
      "1      4.631579\n",
      "2      7.263158\n",
      "3      9.894737\n",
      "4     12.526316\n",
      "5     15.157895\n",
      "6     17.789474\n",
      "7     20.421053\n",
      "8     23.052632\n",
      "9     25.684211\n",
      "10    28.315789\n",
      "11    30.947368\n",
      "12    33.578947\n",
      "13    36.210526\n",
      "14    38.842105\n",
      "15    41.473684\n",
      "16    44.105263\n",
      "17    46.736842\n",
      "18    49.368421\n",
      "19    52.000000\n",
      "dtype: float64\n",
      "\n",
      "Seq*num\n",
      "0       0.000000\n",
      "1       7.894737\n",
      "2      15.789474\n",
      "3      23.684211\n",
      "4      31.578947\n",
      "5      39.473684\n",
      "6      47.368421\n",
      "7      55.263158\n",
      "8      63.157895\n",
      "9      71.052632\n",
      "10     78.947368\n",
      "11     86.842105\n",
      "12     94.736842\n",
      "13    102.631579\n",
      "14    110.526316\n",
      "15    118.421053\n",
      "16    126.315789\n",
      "17    134.210526\n",
      "18    142.105263\n",
      "19    150.000000\n",
      "dtype: float64\n",
      "\n",
      "Seq sum\n",
      "500.0\n",
      "\n",
      "Seq min\n",
      "0.0\n",
      "\n",
      "Seq max\n",
      "50.0\n",
      "\n",
      "Seq size\n",
      "20\n",
      "\n",
      "Seq mean\n",
      "25.0\n",
      "\n",
      "Seq sort\n",
      "19    50.000000\n",
      "18    47.368421\n",
      "17    44.736842\n",
      "16    42.105263\n",
      "15    39.473684\n",
      "14    36.842105\n",
      "13    34.210526\n",
      "12    31.578947\n",
      "11    28.947368\n",
      "10    26.315789\n",
      "9     23.684211\n",
      "8     21.052632\n",
      "7     18.421053\n",
      "6     15.789474\n",
      "5     13.157895\n",
      "4     10.526316\n",
      "3      7.894737\n",
      "2      5.263158\n",
      "1      2.631579\n",
      "0      0.000000\n",
      "dtype: float64\n",
      "\n",
      "Seq prod\n",
      "0.0\n",
      "\n",
      "Seq var\n",
      "242.38227146814407\n",
      "\n",
      "Seq summary\n",
      "count    20.000000\n",
      "mean     25.000000\n",
      "std      15.568631\n",
      "min       0.000000\n",
      "25%      12.500000\n",
      "50%      25.000000\n",
      "75%      37.500000\n",
      "max      50.000000\n",
      "dtype: float64\n",
      "\n"
     ]
    }
   ],
   "source": [
    "seq = pd.Series(np.linspace(start=0, stop=50, num=20))\n",
    "\n",
    "calculations = {\n",
    "    'Seq': seq,\n",
    "    'Seq+num': seq+2, \n",
    "    'Seq*num': seq*3,\n",
    "    'Seq sum': seq.sum(),\n",
    "    'Seq min': seq.min(),\n",
    "    'Seq max': seq.max(),\n",
    "    'Seq size': seq.size,\n",
    "    'Seq mean': seq.mean(),\n",
    "    'Seq sort': seq.sort_values(ascending=False),\n",
    "    'Seq prod': seq.prod(),\n",
    "    'Seq var': seq.var(),\n",
    "    'Seq summary': seq.describe()\n",
    "}\n",
    "\n",
    "for title, value in calculations.items():\n",
    "    print(title, value, sep='\\n', end='\\n\\n')"
   ]
  },
  {
   "cell_type": "markdown",
   "metadata": {},
   "source": [
    "# Lab 6\n",
    "\n",
    " Задание:\n",
    "\n",
    "1. [Создать график какой-либо тригономертричнской функции (sin, cos, tg, ctg b т.п., использовать фукнкцию plot). Для графика подписать оси, подписать легенду.](#1)\n",
    "\n",
    "2. [Используя функцию diag построить диагональную матрицу.](#2)\n",
    "\n",
    "3. [Построить 4 мерный массив. Вывести его по срезам.](#3)\n",
    "\n",
    "4. [Продемострировать над этим массивом операции: сложения с числом, сложения с другим массивом, возведения в степень, умножения на другой массив, транспонирования.](#4)\n",
    "\n",
    "5. [Продемонстрировать решение системы уравнений: A*X=b.](#5)"
   ]
  },
  {
   "cell_type": "code",
   "execution_count": 3,
   "metadata": {},
   "outputs": [],
   "source": [
    "import numpy as np\n",
    "import pandas as pd\n",
    "import matplotlib.pyplot as plt"
   ]
  },
  {
   "cell_type": "markdown",
   "metadata": {},
   "source": [
    "## 1\n",
    "\n",
    "Создать график какой-либо тригономертричнской функции (sin, cos, tg, ctg b т.п.). Для графика подписать оси, подписать легенду"
   ]
  },
  {
   "cell_type": "code",
   "execution_count": 4,
   "metadata": {},
   "outputs": [
    {
     "data": {
      "text/plain": [
       "(-5.0, 5.0)"
      ]
     },
     "execution_count": 4,
     "metadata": {},
     "output_type": "execute_result"
    },
    {
     "data": {
      "image/png": "[encoded data removed]",
      "text/plain": [
       "<Figure size 432x288 with 1 Axes>"
      ]
     },
     "metadata": {
      "needs_background": "light"
     },
     "output_type": "display_data"
    }
   ],
   "source": [
    "x = np.linspace(-np.pi*2, np.pi*2, 1000)\n",
    "\n",
    "plt.plot(x, np.tan(x), label=\"y\")\n",
    "plt.legend(loc=\"lower left\")\n",
    "plt.ylim(-5, 5)"
   ]
  },
  {
   "cell_type": "markdown",
   "metadata": {},
   "source": [
    "## 2\n",
    "\n",
    "Используя функцию diag построить диагональную матрицу"
   ]
  },
  {
   "cell_type": "code",
   "execution_count": 5,
   "metadata": {},
   "outputs": [
    {
     "name": "stdout",
     "output_type": "stream",
     "text": [
      "Initial matrix: \n",
      "[[ 0  1  2  3]\n",
      " [ 4  5  6  7]\n",
      " [ 8  9 10 11]\n",
      " [12 13 14 15]]\n",
      "Diagonal matrix: \n",
      "[ 0  5 10 15]\n"
     ]
    }
   ],
   "source": [
    "matrix = np.arange(16).reshape((4,4))\n",
    "diag = np.diag(matrix)\n",
    "\n",
    "print('Initial matrix: ', matrix, sep='\\n')\n",
    "print('Diagonal matrix: ', diag, sep='\\n')"
   ]
  },
  {
   "cell_type": "markdown",
   "metadata": {},
   "source": [
    "## 3\n",
    "\n",
    "Построить 4 мерный массив. Вывести его по срезам"
   ]
  },
  {
   "cell_type": "code",
   "execution_count": 9,
   "metadata": {
    "scrolled": false
   },
   "outputs": [
    {
     "name": "stdout",
     "output_type": "stream",
     "text": [
      "Initial matrix: \n",
      "\n",
      "[[[[0 1 2]\n",
      "   [0 1 2]\n",
      "   [0 1 2]]\n",
      "\n",
      "  [[0 1 2]\n",
      "   [0 1 2]\n",
      "   [0 1 2]]\n",
      "\n",
      "  [[0 1 2]\n",
      "   [0 1 2]\n",
      "   [0 1 2]]]\n",
      "\n",
      "\n",
      " [[[0 1 2]\n",
      "   [0 1 2]\n",
      "   [0 1 2]]\n",
      "\n",
      "  [[0 1 2]\n",
      "   [0 1 2]\n",
      "   [0 1 2]]\n",
      "\n",
      "  [[0 1 2]\n",
      "   [0 1 2]\n",
      "   [0 1 2]]]\n",
      "\n",
      "\n",
      " [[[0 1 2]\n",
      "   [0 1 2]\n",
      "   [0 1 2]]\n",
      "\n",
      "  [[0 1 2]\n",
      "   [0 1 2]\n",
      "   [0 1 2]]\n",
      "\n",
      "  [[0 1 2]\n",
      "   [0 1 2]\n",
      "   [0 1 2]]]]\n",
      "\n",
      "First value: 2\n"
     ]
    }
   ],
   "source": [
    "def generate_nd_array(dim, size):\n",
    "    if dim == 1: \n",
    "        return list(range(size))\n",
    "    else:\n",
    "        return [generate_nd_array(dim - 1, size) for i in range(size)]\n",
    "\n",
    "n_array = np.array(generate_nd_array(4, 3))\n",
    "\n",
    "print('Initial matrix: ', n_array, sep='\\n\\n')\n",
    "print(f'\\nFirst value: {n_array[0][0][0][2]}')"
   ]
  },
  {
   "cell_type": "markdown",
   "metadata": {},
   "source": [
    "## 4\n",
    "\n",
    "Продемострировать над этим массивом операции: сложения с числом, сложения с другим массивом, возведения в степень, умножения на другой массив, транспонирования."
   ]
  },
  {
   "cell_type": "code",
   "execution_count": 10,
   "metadata": {
    "scrolled": true
   },
   "outputs": [
    {
     "name": "stdout",
     "output_type": "stream",
     "text": [
      "Matrix + number:\n",
      "[[[[2 3 4]\n",
      "   [2 3 4]\n",
      "   [2 3 4]]\n",
      "\n",
      "  [[2 3 4]\n",
      "   [2 3 4]\n",
      "   [2 3 4]]\n",
      "\n",
      "  [[2 3 4]\n",
      "   [2 3 4]\n",
      "   [2 3 4]]]\n",
      "\n",
      "\n",
      " [[[2 3 4]\n",
      "   [2 3 4]\n",
      "   [2 3 4]]\n",
      "\n",
      "  [[2 3 4]\n",
      "   [2 3 4]\n",
      "   [2 3 4]]\n",
      "\n",
      "  [[2 3 4]\n",
      "   [2 3 4]\n",
      "   [2 3 4]]]\n",
      "\n",
      "\n",
      " [[[2 3 4]\n",
      "   [2 3 4]\n",
      "   [2 3 4]]\n",
      "\n",
      "  [[2 3 4]\n",
      "   [2 3 4]\n",
      "   [2 3 4]]\n",
      "\n",
      "  [[2 3 4]\n",
      "   [2 3 4]\n",
      "   [2 3 4]]]]\n",
      "\n",
      "Matrix + matrix:\n",
      "[[[[0 2 4]\n",
      "   [0 2 4]\n",
      "   [0 2 4]]\n",
      "\n",
      "  [[0 2 4]\n",
      "   [0 2 4]\n",
      "   [0 2 4]]\n",
      "\n",
      "  [[0 2 4]\n",
      "   [0 2 4]\n",
      "   [0 2 4]]]\n",
      "\n",
      "\n",
      " [[[0 2 4]\n",
      "   [0 2 4]\n",
      "   [0 2 4]]\n",
      "\n",
      "  [[0 2 4]\n",
      "   [0 2 4]\n",
      "   [0 2 4]]\n",
      "\n",
      "  [[0 2 4]\n",
      "   [0 2 4]\n",
      "   [0 2 4]]]\n",
      "\n",
      "\n",
      " [[[0 2 4]\n",
      "   [0 2 4]\n",
      "   [0 2 4]]\n",
      "\n",
      "  [[0 2 4]\n",
      "   [0 2 4]\n",
      "   [0 2 4]]\n",
      "\n",
      "  [[0 2 4]\n",
      "   [0 2 4]\n",
      "   [0 2 4]]]]\n",
      "\n",
      "Matrix in degree:\n",
      "[[[[0 1 4]\n",
      "   [0 1 4]\n",
      "   [0 1 4]]\n",
      "\n",
      "  [[0 1 4]\n",
      "   [0 1 4]\n",
      "   [0 1 4]]\n",
      "\n",
      "  [[0 1 4]\n",
      "   [0 1 4]\n",
      "   [0 1 4]]]\n",
      "\n",
      "\n",
      " [[[0 1 4]\n",
      "   [0 1 4]\n",
      "   [0 1 4]]\n",
      "\n",
      "  [[0 1 4]\n",
      "   [0 1 4]\n",
      "   [0 1 4]]\n",
      "\n",
      "  [[0 1 4]\n",
      "   [0 1 4]\n",
      "   [0 1 4]]]\n",
      "\n",
      "\n",
      " [[[0 1 4]\n",
      "   [0 1 4]\n",
      "   [0 1 4]]\n",
      "\n",
      "  [[0 1 4]\n",
      "   [0 1 4]\n",
      "   [0 1 4]]\n",
      "\n",
      "  [[0 1 4]\n",
      "   [0 1 4]\n",
      "   [0 1 4]]]]\n",
      "\n",
      "Matrix multiply by matrix:\n",
      "[[[[ 0  2  6]\n",
      "   [ 0  5 12]\n",
      "   [ 0  8 18]]\n",
      "\n",
      "  [[ 0  2  6]\n",
      "   [ 0  5 12]\n",
      "   [ 0  8 18]]\n",
      "\n",
      "  [[ 0  2  6]\n",
      "   [ 0  5 12]\n",
      "   [ 0  8 18]]]\n",
      "\n",
      "\n",
      " [[[ 0  2  6]\n",
      "   [ 0  5 12]\n",
      "   [ 0  8 18]]\n",
      "\n",
      "  [[ 0  2  6]\n",
      "   [ 0  5 12]\n",
      "   [ 0  8 18]]\n",
      "\n",
      "  [[ 0  2  6]\n",
      "   [ 0  5 12]\n",
      "   [ 0  8 18]]]\n",
      "\n",
      "\n",
      " [[[ 0  2  6]\n",
      "   [ 0  5 12]\n",
      "   [ 0  8 18]]\n",
      "\n",
      "  [[ 0  2  6]\n",
      "   [ 0  5 12]\n",
      "   [ 0  8 18]]\n",
      "\n",
      "  [[ 0  2  6]\n",
      "   [ 0  5 12]\n",
      "   [ 0  8 18]]]]\n",
      "\n",
      "Transposed matrix:\n",
      "[[[[0 0 0]\n",
      "   [0 0 0]\n",
      "   [0 0 0]]\n",
      "\n",
      "  [[0 0 0]\n",
      "   [0 0 0]\n",
      "   [0 0 0]]\n",
      "\n",
      "  [[0 0 0]\n",
      "   [0 0 0]\n",
      "   [0 0 0]]]\n",
      "\n",
      "\n",
      " [[[1 1 1]\n",
      "   [1 1 1]\n",
      "   [1 1 1]]\n",
      "\n",
      "  [[1 1 1]\n",
      "   [1 1 1]\n",
      "   [1 1 1]]\n",
      "\n",
      "  [[1 1 1]\n",
      "   [1 1 1]\n",
      "   [1 1 1]]]\n",
      "\n",
      "\n",
      " [[[2 2 2]\n",
      "   [2 2 2]\n",
      "   [2 2 2]]\n",
      "\n",
      "  [[2 2 2]\n",
      "   [2 2 2]\n",
      "   [2 2 2]]\n",
      "\n",
      "  [[2 2 2]\n",
      "   [2 2 2]\n",
      "   [2 2 2]]]]\n",
      "\n"
     ]
    }
   ],
   "source": [
    "calculations = {\n",
    "    'Matrix + number': n_array + 2,\n",
    "    'Matrix + matrix': n_array + n_array, \n",
    "    'Matrix in degree': n_array ** 2,\n",
    "    'Matrix multiply by matrix': n_array * [[1, 2, 3], [4, 5, 6], [7, 8, 9]],\n",
    "    'Transposed matrix': n_array.transpose()\n",
    "}\n",
    "\n",
    "for title, value in calculations.items():\n",
    "    print(f'{title}:', value, sep='\\n', end='\\n\\n')"
   ]
  },
  {
   "cell_type": "markdown",
   "metadata": {},
   "source": [
    "## 5\n",
    "\n",
    "Продемонстрировать решение системы уравнений:\n",
    "\\begin{align}\n",
    "A*X = B\n",
    "\\end{align}\n"
   ]
  },
  {
   "cell_type": "code",
   "execution_count": 11,
   "metadata": {
    "scrolled": true
   },
   "outputs": [
    {
     "name": "stdout",
     "output_type": "stream",
     "text": [
      "Matrix A: \n",
      "[[[[6 7]\n",
      "   [8 9]\n",
      "   [4 5]\n",
      "   [6 1]]\n",
      "\n",
      "  [[0 5]\n",
      "   [5 8]\n",
      "   [4 2]\n",
      "   [7 3]]\n",
      "\n",
      "  [[0 8]\n",
      "   [3 2]\n",
      "   [8 5]\n",
      "   [5 8]]\n",
      "\n",
      "  [[5 9]\n",
      "   [5 6]\n",
      "   [8 9]\n",
      "   [5 8]]]\n",
      "\n",
      "\n",
      " [[[0 5]\n",
      "   [0 4]\n",
      "   [4 1]\n",
      "   [6 4]]\n",
      "\n",
      "  [[9 7]\n",
      "   [7 8]\n",
      "   [0 3]\n",
      "   [1 1]]\n",
      "\n",
      "  [[7 9]\n",
      "   [7 0]\n",
      "   [1 6]\n",
      "   [6 2]]\n",
      "\n",
      "  [[9 8]\n",
      "   [3 0]\n",
      "   [5 5]\n",
      "   [9 4]]]]\n",
      "\n",
      "Matrix B: \n",
      "[[6 5 0 4]\n",
      " [2 0 6 5]]\n",
      "\n",
      "Matrix X: \n",
      "[[-0.23095876 -0.48064496]\n",
      " [-0.08247669  0.19207879]\n",
      " [-0.63953008  1.25801924]\n",
      " [ 1.04792069 -0.33812836]]\n",
      "\n",
      "Check:  True\n"
     ]
    }
   ],
   "source": [
    "A = np.random.randint(0, 10, size = (2, 4, 4, 2))\n",
    "B = np.random.randint(0, 10, size = (2, 4))\n",
    "\n",
    "X = np.linalg.tensorsolve(A, B)\n",
    "\n",
    "print('Matrix A: ', A, '', sep='\\n')\n",
    "print('Matrix B: ', B, '', sep='\\n')\n",
    "\n",
    "print('Matrix X: ', X, sep='\\n')\n",
    "\n",
    "print('\\nCheck: ', np.allclose(np.tensordot(A, X, axes=2), B))"
   ]
  },
  {
   "cell_type": "markdown",
   "metadata": {},
   "source": [
    "# Lab 7\n",
    "\n",
    " Задание:\n",
    " \n",
    " В соответствии с индивидуальным вариантом задания построить  модель линейной регресиии и выполнить её оценку"
   ]
  },
  {
   "cell_type": "code",
   "execution_count": 12,
   "metadata": {
    "pycharm": {
     "name": "#%%\n"
    }
   },
   "outputs": [
    {
     "data": {
      "text/html": [
       "        <script type=\"text/javascript\">\n",
       "        window.PlotlyConfig = {MathJaxConfig: 'local'};\n",
       "        if (window.MathJax) {MathJax.Hub.Config({SVG: {font: \"STIX-Web\"}});}\n",
       "        if (typeof require !== 'undefined') {\n",
       "        require.undef(\"plotly\");\n",
       "        requirejs.config({\n",
       "            paths: {\n",
       "                'plotly': ['https://cdn.plot.ly/plotly-latest.min']\n",
       "            }\n",
       "        });\n",
       "        require(['plotly'], function(Plotly) {\n",
       "            window._Plotly = Plotly;\n",
       "        });\n",
       "        }\n",
       "        </script>\n",
       "        "
      ]
     },
     "metadata": {},
     "output_type": "display_data"
    },
    {
     "data": {
      "text/html": [
       "        <script type=\"text/javascript\">\n",
       "        window.PlotlyConfig = {MathJaxConfig: 'local'};\n",
       "        if (window.MathJax) {MathJax.Hub.Config({SVG: {font: \"STIX-Web\"}});}\n",
       "        if (typeof require !== 'undefined') {\n",
       "        require.undef(\"plotly\");\n",
       "        requirejs.config({\n",
       "            paths: {\n",
       "                'plotly': ['https://cdn.plot.ly/plotly-latest.min']\n",
       "            }\n",
       "        });\n",
       "        require(['plotly'], function(Plotly) {\n",
       "            window._Plotly = Plotly;\n",
       "        });\n",
       "        }\n",
       "        </script>\n",
       "        "
      ]
     },
     "metadata": {},
     "output_type": "display_data"
    }
   ],
   "source": [
    "import numpy as np\n",
    "import matplotlib.pyplot as plt\n",
    "import pandas as pd\n",
    "import plotly.graph_objects as go\n",
    "import cufflinks as cf\n",
    "\n",
    "from plotly.offline import init_notebook_mode, iplot\n",
    "from sklearn import linear_model\n",
    "from scipy import stats\n",
    "\n",
    "init_notebook_mode(connected=True)\n",
    "cf.go_offline()\n"
   ]
  },
  {
   "cell_type": "code",
   "execution_count": 13,
   "metadata": {
    "pycharm": {
     "name": "#%%\n"
    },
    "scrolled": false
   },
   "outputs": [
    {
     "name": "stdout",
     "output_type": "stream",
     "text": [
      "intercept: 10.054761904761904\n",
      "slope: 0.6595238095238095\n",
      "residuals: [ 0.28571429  1.37142857 -6.54285714  7.54285714 -2.37142857 -0.28571429]\n",
      "correlation coefficient: 0.9543500525439657\n"
     ]
    },
    {
     "data": {
      "application/vnd.plotly.v1+json": {
       "config": {
        "plotlyServerURL": "https://plot.ly"
       },
       "data": [
        {
         "line": {
          "color": "rgba(255, 153, 51, 1.0)",
          "dash": "solid",
          "shape": "linear",
          "width": 1.3
         },
         "marker": {
          "size": 12,
          "symbol": "circle"
         },
         "mode": "markers",
         "name": "y",
         "text": "",
         "type": "scatter",
         "x": [
          1,
          13,
          25,
          37,
          49,
          61
         ],
         "y": [
          11,
          20,
          20,
          42,
          40,
          50
         ]
        },
        {
         "hoverinfo": "text+x+y",
         "marker": {
          "color": "crimson",
          "size": 12
         },
         "mode": "lines+markers",
         "name": "Regression line",
         "text": "Predicted y value",
         "type": "scatter",
         "x": [
          1,
          13,
          25,
          37,
          49,
          61
         ],
         "y": [
          10.714285714285714,
          18.628571428571426,
          26.54285714285714,
          34.457142857142856,
          42.37142857142857,
          50.285714285714285
         ]
        }
       ],
       "layout": {
        "legend": {
         "bgcolor": "#F5F6F9",
         "font": {
          "color": "#4D5663"
         }
        },
        "paper_bgcolor": "#F5F6F9",
        "plot_bgcolor": "#F5F6F9",
        "template": {
         "data": {
          "bar": [
           {
            "error_x": {
             "color": "#2a3f5f"
            },
            "error_y": {
             "color": "#2a3f5f"
            },
            "marker": {
             "line": {
              "color": "#E5ECF6",
              "width": 0.5
             }
            },
            "type": "bar"
           }
          ],
          "barpolar": [
           {
            "marker": {
             "line": {
              "color": "#E5ECF6",
              "width": 0.5
             }
            },
            "type": "barpolar"
           }
          ],
          "carpet": [
           {
            "aaxis": {
             "endlinecolor": "#2a3f5f",
             "gridcolor": "white",
             "linecolor": "white",
             "minorgridcolor": "white",
             "startlinecolor": "#2a3f5f"
            },
            "baxis": {
             "endlinecolor": "#2a3f5f",
             "gridcolor": "white",
             "linecolor": "white",
             "minorgridcolor": "white",
             "startlinecolor": "#2a3f5f"
            },
            "type": "carpet"
           }
          ],
          "choropleth": [
           {
            "colorbar": {
             "outlinewidth": 0,
             "ticks": ""
            },
            "type": "choropleth"
           }
          ],
          "contour": [
           {
            "colorbar": {
             "outlinewidth": 0,
             "ticks": ""
            },
            "colorscale": [
             [
              0,
              "#0d0887"
             ],
             [
              0.1111111111111111,
              "#46039f"
             ],
             [
              0.2222222222222222,
              "#7201a8"
             ],
             [
              0.3333333333333333,
              "#9c179e"
             ],
             [
              0.4444444444444444,
              "#bd3786"
             ],
             [
              0.5555555555555556,
              "#d8576b"
             ],
             [
              0.6666666666666666,
              "#ed7953"
             ],
             [
              0.7777777777777778,
              "#fb9f3a"
             ],
             [
              0.8888888888888888,
              "#fdca26"
             ],
             [
              1,
              "#f0f921"
             ]
            ],
            "type": "contour"
           }
          ],
          "contourcarpet": [
           {
            "colorbar": {
             "outlinewidth": 0,
             "ticks": ""
            },
            "type": "contourcarpet"
           }
          ],
          "heatmap": [
           {
            "colorbar": {
             "outlinewidth": 0,
             "ticks": ""
            },
            "colorscale": [
             [
              0,
              "#0d0887"
             ],
             [
              0.1111111111111111,
              "#46039f"
             ],
             [
              0.2222222222222222,
              "#7201a8"
             ],
             [
              0.3333333333333333,
              "#9c179e"
             ],
             [
              0.4444444444444444,
              "#bd3786"
             ],
             [
              0.5555555555555556,
              "#d8576b"
             ],
             [
              0.6666666666666666,
              "#ed7953"
             ],
             [
              0.7777777777777778,
              "#fb9f3a"
             ],
             [
              0.8888888888888888,
              "#fdca26"
             ],
             [
              1,
              "#f0f921"
             ]
            ],
            "type": "heatmap"
           }
          ],
          "heatmapgl": [
           {
            "colorbar": {
             "outlinewidth": 0,
             "ticks": ""
            },
            "colorscale": [
             [
              0,
              "#0d0887"
             ],
             [
              0.1111111111111111,
              "#46039f"
             ],
             [
              0.2222222222222222,
              "#7201a8"
             ],
             [
              0.3333333333333333,
              "#9c179e"
             ],
             [
              0.4444444444444444,
              "#bd3786"
             ],
             [
              0.5555555555555556,
              "#d8576b"
             ],
             [
              0.6666666666666666,
              "#ed7953"
             ],
             [
              0.7777777777777778,
              "#fb9f3a"
             ],
             [
              0.8888888888888888,
              "#fdca26"
             ],
             [
              1,
              "#f0f921"
             ]
            ],
            "type": "heatmapgl"
           }
          ],
          "histogram": [
           {
            "marker": {
             "colorbar": {
              "outlinewidth": 0,
              "ticks": ""
             }
            },
            "type": "histogram"
           }
          ],
          "histogram2d": [
           {
            "colorbar": {
             "outlinewidth": 0,
             "ticks": ""
            },
            "colorscale": [
             [
              0,
              "#0d0887"
             ],
             [
              0.1111111111111111,
              "#46039f"
             ],
             [
              0.2222222222222222,
              "#7201a8"
             ],
             [
              0.3333333333333333,
              "#9c179e"
             ],
             [
              0.4444444444444444,
              "#bd3786"
             ],
             [
              0.5555555555555556,
              "#d8576b"
             ],
             [
              0.6666666666666666,
              "#ed7953"
             ],
             [
              0.7777777777777778,
              "#fb9f3a"
             ],
             [
              0.8888888888888888,
              "#fdca26"
             ],
             [
              1,
              "#f0f921"
             ]
            ],
            "type": "histogram2d"
           }
          ],
          "histogram2dcontour": [
           {
            "colorbar": {
             "outlinewidth": 0,
             "ticks": ""
            },
            "colorscale": [
             [
              0,
              "#0d0887"
             ],
             [
              0.1111111111111111,
              "#46039f"
             ],
             [
              0.2222222222222222,
              "#7201a8"
             ],
             [
              0.3333333333333333,
              "#9c179e"
             ],
             [
              0.4444444444444444,
              "#bd3786"
             ],
             [
              0.5555555555555556,
              "#d8576b"
             ],
             [
              0.6666666666666666,
              "#ed7953"
             ],
             [
              0.7777777777777778,
              "#fb9f3a"
             ],
             [
              0.8888888888888888,
              "#fdca26"
             ],
             [
              1,
              "#f0f921"
             ]
            ],
            "type": "histogram2dcontour"
           }
          ],
          "mesh3d": [
           {
            "colorbar": {
             "outlinewidth": 0,
             "ticks": ""
            },
            "type": "mesh3d"
           }
          ],
          "parcoords": [
           {
            "line": {
             "colorbar": {
              "outlinewidth": 0,
              "ticks": ""
             }
            },
            "type": "parcoords"
           }
          ],
          "pie": [
           {
            "automargin": true,
            "type": "pie"
           }
          ],
          "scatter": [
           {
            "marker": {
             "colorbar": {
              "outlinewidth": 0,
              "ticks": ""
             }
            },
            "type": "scatter"
           }
          ],
          "scatter3d": [
           {
            "line": {
             "colorbar": {
              "outlinewidth": 0,
              "ticks": ""
             }
            },
            "marker": {
             "colorbar": {
              "outlinewidth": 0,
              "ticks": ""
             }
            },
            "type": "scatter3d"
           }
          ],
          "scattercarpet": [
           {
            "marker": {
             "colorbar": {
              "outlinewidth": 0,
              "ticks": ""
             }
            },
            "type": "scattercarpet"
           }
          ],
          "scattergeo": [
           {
            "marker": {
             "colorbar": {
              "outlinewidth": 0,
              "ticks": ""
             }
            },
            "type": "scattergeo"
           }
          ],
          "scattergl": [
           {
            "marker": {
             "colorbar": {
              "outlinewidth": 0,
              "ticks": ""
             }
            },
            "type": "scattergl"
           }
          ],
          "scattermapbox": [
           {
            "marker": {
             "colorbar": {
              "outlinewidth": 0,
              "ticks": ""
             }
            },
            "type": "scattermapbox"
           }
          ],
          "scatterpolar": [
           {
            "marker": {
             "colorbar": {
              "outlinewidth": 0,
              "ticks": ""
             }
            },
            "type": "scatterpolar"
           }
          ],
          "scatterpolargl": [
           {
            "marker": {
             "colorbar": {
              "outlinewidth": 0,
              "ticks": ""
             }
            },
            "type": "scatterpolargl"
           }
          ],
          "scatterternary": [
           {
            "marker": {
             "colorbar": {
              "outlinewidth": 0,
              "ticks": ""
             }
            },
            "type": "scatterternary"
           }
          ],
          "surface": [
           {
            "colorbar": {
             "outlinewidth": 0,
             "ticks": ""
            },
            "colorscale": [
             [
              0,
              "#0d0887"
             ],
             [
              0.1111111111111111,
              "#46039f"
             ],
             [
              0.2222222222222222,
              "#7201a8"
             ],
             [
              0.3333333333333333,
              "#9c179e"
             ],
             [
              0.4444444444444444,
              "#bd3786"
             ],
             [
              0.5555555555555556,
              "#d8576b"
             ],
             [
              0.6666666666666666,
              "#ed7953"
             ],
             [
              0.7777777777777778,
              "#fb9f3a"
             ],
             [
              0.8888888888888888,
              "#fdca26"
             ],
             [
              1,
              "#f0f921"
             ]
            ],
            "type": "surface"
           }
          ],
          "table": [
           {
            "cells": {
             "fill": {
              "color": "#EBF0F8"
             },
             "line": {
              "color": "white"
             }
            },
            "header": {
             "fill": {
              "color": "#C8D4E3"
             },
             "line": {
              "color": "white"
             }
            },
            "type": "table"
           }
          ]
         },
         "layout": {
          "annotationdefaults": {
           "arrowcolor": "#2a3f5f",
           "arrowhead": 0,
           "arrowwidth": 1
          },
          "coloraxis": {
           "colorbar": {
            "outlinewidth": 0,
            "ticks": ""
           }
          },
          "colorscale": {
           "diverging": [
            [
             0,
             "#8e0152"
            ],
            [
             0.1,
             "#c51b7d"
            ],
            [
             0.2,
             "#de77ae"
            ],
            [
             0.3,
             "#f1b6da"
            ],
            [
             0.4,
             "#fde0ef"
            ],
            [
             0.5,
             "#f7f7f7"
            ],
            [
             0.6,
             "#e6f5d0"
            ],
            [
             0.7,
             "#b8e186"
            ],
            [
             0.8,
             "#7fbc41"
            ],
            [
             0.9,
             "#4d9221"
            ],
            [
             1,
             "#276419"
            ]
           ],
           "sequential": [
            [
             0,
             "#0d0887"
            ],
            [
             0.1111111111111111,
             "#46039f"
            ],
            [
             0.2222222222222222,
             "#7201a8"
            ],
            [
             0.3333333333333333,
             "#9c179e"
            ],
            [
             0.4444444444444444,
             "#bd3786"
            ],
            [
             0.5555555555555556,
             "#d8576b"
            ],
            [
             0.6666666666666666,
             "#ed7953"
            ],
            [
             0.7777777777777778,
             "#fb9f3a"
            ],
            [
             0.8888888888888888,
             "#fdca26"
            ],
            [
             1,
             "#f0f921"
            ]
           ],
           "sequentialminus": [
            [
             0,
             "#0d0887"
            ],
            [
             0.1111111111111111,
             "#46039f"
            ],
            [
             0.2222222222222222,
             "#7201a8"
            ],
            [
             0.3333333333333333,
             "#9c179e"
            ],
            [
             0.4444444444444444,
             "#bd3786"
            ],
            [
             0.5555555555555556,
             "#d8576b"
            ],
            [
             0.6666666666666666,
             "#ed7953"
            ],
            [
             0.7777777777777778,
             "#fb9f3a"
            ],
            [
             0.8888888888888888,
             "#fdca26"
            ],
            [
             1,
             "#f0f921"
            ]
           ]
          },
          "colorway": [
           "#636efa",
           "#EF553B",
           "#00cc96",
           "#ab63fa",
           "#FFA15A",
           "#19d3f3",
           "#FF6692",
           "#B6E880",
           "#FF97FF",
           "#FECB52"
          ],
          "font": {
           "color": "#2a3f5f"
          },
          "geo": {
           "bgcolor": "white",
           "lakecolor": "white",
           "landcolor": "#E5ECF6",
           "showlakes": true,
           "showland": true,
           "subunitcolor": "white"
          },
          "hoverlabel": {
           "align": "left"
          },
          "hovermode": "closest",
          "mapbox": {
           "style": "light"
          },
          "paper_bgcolor": "white",
          "plot_bgcolor": "#E5ECF6",
          "polar": {
           "angularaxis": {
            "gridcolor": "white",
            "linecolor": "white",
            "ticks": ""
           },
           "bgcolor": "#E5ECF6",
           "radialaxis": {
            "gridcolor": "white",
            "linecolor": "white",
            "ticks": ""
           }
          },
          "scene": {
           "xaxis": {
            "backgroundcolor": "#E5ECF6",
            "gridcolor": "white",
            "gridwidth": 2,
            "linecolor": "white",
            "showbackground": true,
            "ticks": "",
            "zerolinecolor": "white"
           },
           "yaxis": {
            "backgroundcolor": "#E5ECF6",
            "gridcolor": "white",
            "gridwidth": 2,
            "linecolor": "white",
            "showbackground": true,
            "ticks": "",
            "zerolinecolor": "white"
           },
           "zaxis": {
            "backgroundcolor": "#E5ECF6",
            "gridcolor": "white",
            "gridwidth": 2,
            "linecolor": "white",
            "showbackground": true,
            "ticks": "",
            "zerolinecolor": "white"
           }
          },
          "shapedefaults": {
           "line": {
            "color": "#2a3f5f"
           }
          },
          "ternary": {
           "aaxis": {
            "gridcolor": "white",
            "linecolor": "white",
            "ticks": ""
           },
           "baxis": {
            "gridcolor": "white",
            "linecolor": "white",
            "ticks": ""
           },
           "bgcolor": "#E5ECF6",
           "caxis": {
            "gridcolor": "white",
            "linecolor": "white",
            "ticks": ""
           }
          },
          "title": {
           "x": 0.05
          },
          "xaxis": {
           "automargin": true,
           "gridcolor": "white",
           "linecolor": "white",
           "ticks": "",
           "title": {
            "standoff": 15
           },
           "zerolinecolor": "white",
           "zerolinewidth": 2
          },
          "yaxis": {
           "automargin": true,
           "gridcolor": "white",
           "linecolor": "white",
           "ticks": "",
           "title": {
            "standoff": 15
           },
           "zerolinecolor": "white",
           "zerolinewidth": 2
          }
         }
        },
        "title": {
         "font": {
          "color": "#4D5663"
         }
        },
        "xaxis": {
         "gridcolor": "#E1E5ED",
         "showgrid": true,
         "tickfont": {
          "color": "#4D5663"
         },
         "title": {
          "font": {
           "color": "#4D5663"
          },
          "text": ""
         },
         "zerolinecolor": "#E1E5ED"
        },
        "yaxis": {
         "gridcolor": "#E1E5ED",
         "showgrid": true,
         "tickfont": {
          "color": "#4D5663"
         },
         "title": {
          "font": {
           "color": "#4D5663"
          },
          "text": ""
         },
         "zerolinecolor": "#E1E5ED"
        }
       }
      },
      "text/html": [
       "<div>\n",
       "        \n",
       "        \n",
       "            <div id=\"4a441b89-de07-4581-9a18-e7ab17b286cf\" class=\"plotly-graph-div\" style=\"height:525px; width:100%;\"></div>\n",
       "            <script type=\"text/javascript\">\n",
       "                require([\"plotly\"], function(Plotly) {\n",
       "                    window.PLOTLYENV=window.PLOTLYENV || {};\n",
       "                    \n",
       "                if (document.getElementById(\"4a441b89-de07-4581-9a18-e7ab17b286cf\")) {\n",
       "                    Plotly.newPlot(\n",
       "                        '4a441b89-de07-4581-9a18-e7ab17b286cf',\n",
       "                        [{\"line\": {\"color\": \"rgba(255, 153, 51, 1.0)\", \"dash\": \"solid\", \"shape\": \"linear\", \"width\": 1.3}, \"marker\": {\"size\": 12, \"symbol\": \"circle\"}, \"mode\": \"markers\", \"name\": \"y\", \"text\": \"\", \"type\": \"scatter\", \"x\": [1, 13, 25, 37, 49, 61], \"y\": [11, 20, 20, 42, 40, 50]}, {\"hoverinfo\": \"text+x+y\", \"marker\": {\"color\": \"crimson\", \"size\": 12}, \"mode\": \"lines+markers\", \"name\": \"Regression line\", \"text\": \"Predicted y value\", \"type\": \"scatter\", \"x\": [1, 13, 25, 37, 49, 61], \"y\": [10.714285714285714, 18.628571428571426, 26.54285714285714, 34.457142857142856, 42.37142857142857, 50.285714285714285]}],\n",
       "                        {\"legend\": {\"bgcolor\": \"#F5F6F9\", \"font\": {\"color\": \"#4D5663\"}}, \"paper_bgcolor\": \"#F5F6F9\", \"plot_bgcolor\": \"#F5F6F9\", \"template\": {\"data\": {\"bar\": [{\"error_x\": {\"color\": \"#2a3f5f\"}, \"error_y\": {\"color\": \"#2a3f5f\"}, \"marker\": {\"line\": {\"color\": \"#E5ECF6\", \"width\": 0.5}}, \"type\": \"bar\"}], \"barpolar\": [{\"marker\": {\"line\": {\"color\": \"#E5ECF6\", \"width\": 0.5}}, \"type\": \"barpolar\"}], \"carpet\": [{\"aaxis\": {\"endlinecolor\": \"#2a3f5f\", \"gridcolor\": \"white\", \"linecolor\": \"white\", \"minorgridcolor\": \"white\", \"startlinecolor\": \"#2a3f5f\"}, \"baxis\": {\"endlinecolor\": \"#2a3f5f\", \"gridcolor\": \"white\", \"linecolor\": \"white\", \"minorgridcolor\": \"white\", \"startlinecolor\": \"#2a3f5f\"}, \"type\": \"carpet\"}], \"choropleth\": [{\"colorbar\": {\"outlinewidth\": 0, \"ticks\": \"\"}, \"type\": \"choropleth\"}], \"contour\": [{\"colorbar\": {\"outlinewidth\": 0, \"ticks\": \"\"}, \"colorscale\": [[0.0, \"#0d0887\"], [0.1111111111111111, \"#46039f\"], [0.2222222222222222, \"#7201a8\"], [0.3333333333333333, \"#9c179e\"], [0.4444444444444444, \"#bd3786\"], [0.5555555555555556, \"#d8576b\"], [0.6666666666666666, \"#ed7953\"], [0.7777777777777778, \"#fb9f3a\"], [0.8888888888888888, \"#fdca26\"], [1.0, \"#f0f921\"]], \"type\": \"contour\"}], \"contourcarpet\": [{\"colorbar\": {\"outlinewidth\": 0, \"ticks\": \"\"}, \"type\": \"contourcarpet\"}], \"heatmap\": [{\"colorbar\": {\"outlinewidth\": 0, \"ticks\": \"\"}, \"colorscale\": [[0.0, \"#0d0887\"], [0.1111111111111111, \"#46039f\"], [0.2222222222222222, \"#7201a8\"], [0.3333333333333333, \"#9c179e\"], [0.4444444444444444, \"#bd3786\"], [0.5555555555555556, \"#d8576b\"], [0.6666666666666666, \"#ed7953\"], [0.7777777777777778, \"#fb9f3a\"], [0.8888888888888888, \"#fdca26\"], [1.0, \"#f0f921\"]], \"type\": \"heatmap\"}], \"heatmapgl\": [{\"colorbar\": {\"outlinewidth\": 0, \"ticks\": \"\"}, \"colorscale\": [[0.0, \"#0d0887\"], [0.1111111111111111, \"#46039f\"], [0.2222222222222222, \"#7201a8\"], [0.3333333333333333, \"#9c179e\"], [0.4444444444444444, \"#bd3786\"], [0.5555555555555556, \"#d8576b\"], [0.6666666666666666, \"#ed7953\"], [0.7777777777777778, \"#fb9f3a\"], [0.8888888888888888, \"#fdca26\"], [1.0, \"#f0f921\"]], \"type\": \"heatmapgl\"}], \"histogram\": [{\"marker\": {\"colorbar\": {\"outlinewidth\": 0, \"ticks\": \"\"}}, \"type\": \"histogram\"}], \"histogram2d\": [{\"colorbar\": {\"outlinewidth\": 0, \"ticks\": \"\"}, \"colorscale\": [[0.0, \"#0d0887\"], [0.1111111111111111, \"#46039f\"], [0.2222222222222222, \"#7201a8\"], [0.3333333333333333, \"#9c179e\"], [0.4444444444444444, \"#bd3786\"], [0.5555555555555556, \"#d8576b\"], [0.6666666666666666, \"#ed7953\"], [0.7777777777777778, \"#fb9f3a\"], [0.8888888888888888, \"#fdca26\"], [1.0, \"#f0f921\"]], \"type\": \"histogram2d\"}], \"histogram2dcontour\": [{\"colorbar\": {\"outlinewidth\": 0, \"ticks\": \"\"}, \"colorscale\": [[0.0, \"#0d0887\"], [0.1111111111111111, \"#46039f\"], [0.2222222222222222, \"#7201a8\"], [0.3333333333333333, \"#9c179e\"], [0.4444444444444444, \"#bd3786\"], [0.5555555555555556, \"#d8576b\"], [0.6666666666666666, \"#ed7953\"], [0.7777777777777778, \"#fb9f3a\"], [0.8888888888888888, \"#fdca26\"], [1.0, \"#f0f921\"]], \"type\": \"histogram2dcontour\"}], \"mesh3d\": [{\"colorbar\": {\"outlinewidth\": 0, \"ticks\": \"\"}, \"type\": \"mesh3d\"}], \"parcoords\": [{\"line\": {\"colorbar\": {\"outlinewidth\": 0, \"ticks\": \"\"}}, \"type\": \"parcoords\"}], \"pie\": [{\"automargin\": true, \"type\": \"pie\"}], \"scatter\": [{\"marker\": {\"colorbar\": {\"outlinewidth\": 0, \"ticks\": \"\"}}, \"type\": \"scatter\"}], \"scatter3d\": [{\"line\": {\"colorbar\": {\"outlinewidth\": 0, \"ticks\": \"\"}}, \"marker\": {\"colorbar\": {\"outlinewidth\": 0, \"ticks\": \"\"}}, \"type\": \"scatter3d\"}], \"scattercarpet\": [{\"marker\": {\"colorbar\": {\"outlinewidth\": 0, \"ticks\": \"\"}}, \"type\": \"scattercarpet\"}], \"scattergeo\": [{\"marker\": {\"colorbar\": {\"outlinewidth\": 0, \"ticks\": \"\"}}, \"type\": \"scattergeo\"}], \"scattergl\": [{\"marker\": {\"colorbar\": {\"outlinewidth\": 0, \"ticks\": \"\"}}, \"type\": \"scattergl\"}], \"scattermapbox\": [{\"marker\": {\"colorbar\": {\"outlinewidth\": 0, \"ticks\": \"\"}}, \"type\": \"scattermapbox\"}], \"scatterpolar\": [{\"marker\": {\"colorbar\": {\"outlinewidth\": 0, \"ticks\": \"\"}}, \"type\": \"scatterpolar\"}], \"scatterpolargl\": [{\"marker\": {\"colorbar\": {\"outlinewidth\": 0, \"ticks\": \"\"}}, \"type\": \"scatterpolargl\"}], \"scatterternary\": [{\"marker\": {\"colorbar\": {\"outlinewidth\": 0, \"ticks\": \"\"}}, \"type\": \"scatterternary\"}], \"surface\": [{\"colorbar\": {\"outlinewidth\": 0, \"ticks\": \"\"}, \"colorscale\": [[0.0, \"#0d0887\"], [0.1111111111111111, \"#46039f\"], [0.2222222222222222, \"#7201a8\"], [0.3333333333333333, \"#9c179e\"], [0.4444444444444444, \"#bd3786\"], [0.5555555555555556, \"#d8576b\"], [0.6666666666666666, \"#ed7953\"], [0.7777777777777778, \"#fb9f3a\"], [0.8888888888888888, \"#fdca26\"], [1.0, \"#f0f921\"]], \"type\": \"surface\"}], \"table\": [{\"cells\": {\"fill\": {\"color\": \"#EBF0F8\"}, \"line\": {\"color\": \"white\"}}, \"header\": {\"fill\": {\"color\": \"#C8D4E3\"}, \"line\": {\"color\": \"white\"}}, \"type\": \"table\"}]}, \"layout\": {\"annotationdefaults\": {\"arrowcolor\": \"#2a3f5f\", \"arrowhead\": 0, \"arrowwidth\": 1}, \"coloraxis\": {\"colorbar\": {\"outlinewidth\": 0, \"ticks\": \"\"}}, \"colorscale\": {\"diverging\": [[0, \"#8e0152\"], [0.1, \"#c51b7d\"], [0.2, \"#de77ae\"], [0.3, \"#f1b6da\"], [0.4, \"#fde0ef\"], [0.5, \"#f7f7f7\"], [0.6, \"#e6f5d0\"], [0.7, \"#b8e186\"], [0.8, \"#7fbc41\"], [0.9, \"#4d9221\"], [1, \"#276419\"]], \"sequential\": [[0.0, \"#0d0887\"], [0.1111111111111111, \"#46039f\"], [0.2222222222222222, \"#7201a8\"], [0.3333333333333333, \"#9c179e\"], [0.4444444444444444, \"#bd3786\"], [0.5555555555555556, \"#d8576b\"], [0.6666666666666666, \"#ed7953\"], [0.7777777777777778, \"#fb9f3a\"], [0.8888888888888888, \"#fdca26\"], [1.0, \"#f0f921\"]], \"sequentialminus\": [[0.0, \"#0d0887\"], [0.1111111111111111, \"#46039f\"], [0.2222222222222222, \"#7201a8\"], [0.3333333333333333, \"#9c179e\"], [0.4444444444444444, \"#bd3786\"], [0.5555555555555556, \"#d8576b\"], [0.6666666666666666, \"#ed7953\"], [0.7777777777777778, \"#fb9f3a\"], [0.8888888888888888, \"#fdca26\"], [1.0, \"#f0f921\"]]}, \"colorway\": [\"#636efa\", \"#EF553B\", \"#00cc96\", \"#ab63fa\", \"#FFA15A\", \"#19d3f3\", \"#FF6692\", \"#B6E880\", \"#FF97FF\", \"#FECB52\"], \"font\": {\"color\": \"#2a3f5f\"}, \"geo\": {\"bgcolor\": \"white\", \"lakecolor\": \"white\", \"landcolor\": \"#E5ECF6\", \"showlakes\": true, \"showland\": true, \"subunitcolor\": \"white\"}, \"hoverlabel\": {\"align\": \"left\"}, \"hovermode\": \"closest\", \"mapbox\": {\"style\": \"light\"}, \"paper_bgcolor\": \"white\", \"plot_bgcolor\": \"#E5ECF6\", \"polar\": {\"angularaxis\": {\"gridcolor\": \"white\", \"linecolor\": \"white\", \"ticks\": \"\"}, \"bgcolor\": \"#E5ECF6\", \"radialaxis\": {\"gridcolor\": \"white\", \"linecolor\": \"white\", \"ticks\": \"\"}}, \"scene\": {\"xaxis\": {\"backgroundcolor\": \"#E5ECF6\", \"gridcolor\": \"white\", \"gridwidth\": 2, \"linecolor\": \"white\", \"showbackground\": true, \"ticks\": \"\", \"zerolinecolor\": \"white\"}, \"yaxis\": {\"backgroundcolor\": \"#E5ECF6\", \"gridcolor\": \"white\", \"gridwidth\": 2, \"linecolor\": \"white\", \"showbackground\": true, \"ticks\": \"\", \"zerolinecolor\": \"white\"}, \"zaxis\": {\"backgroundcolor\": \"#E5ECF6\", \"gridcolor\": \"white\", \"gridwidth\": 2, \"linecolor\": \"white\", \"showbackground\": true, \"ticks\": \"\", \"zerolinecolor\": \"white\"}}, \"shapedefaults\": {\"line\": {\"color\": \"#2a3f5f\"}}, \"ternary\": {\"aaxis\": {\"gridcolor\": \"white\", \"linecolor\": \"white\", \"ticks\": \"\"}, \"baxis\": {\"gridcolor\": \"white\", \"linecolor\": \"white\", \"ticks\": \"\"}, \"bgcolor\": \"#E5ECF6\", \"caxis\": {\"gridcolor\": \"white\", \"linecolor\": \"white\", \"ticks\": \"\"}}, \"title\": {\"x\": 0.05}, \"xaxis\": {\"automargin\": true, \"gridcolor\": \"white\", \"linecolor\": \"white\", \"ticks\": \"\", \"title\": {\"standoff\": 15}, \"zerolinecolor\": \"white\", \"zerolinewidth\": 2}, \"yaxis\": {\"automargin\": true, \"gridcolor\": \"white\", \"linecolor\": \"white\", \"ticks\": \"\", \"title\": {\"standoff\": 15}, \"zerolinecolor\": \"white\", \"zerolinewidth\": 2}}}, \"title\": {\"font\": {\"color\": \"#4D5663\"}}, \"xaxis\": {\"gridcolor\": \"#E1E5ED\", \"showgrid\": true, \"tickfont\": {\"color\": \"#4D5663\"}, \"title\": {\"font\": {\"color\": \"#4D5663\"}, \"text\": \"\"}, \"zerolinecolor\": \"#E1E5ED\"}, \"yaxis\": {\"gridcolor\": \"#E1E5ED\", \"showgrid\": true, \"tickfont\": {\"color\": \"#4D5663\"}, \"title\": {\"font\": {\"color\": \"#4D5663\"}, \"text\": \"\"}, \"zerolinecolor\": \"#E1E5ED\"}},\n",
       "                        {\"responsive\": true}\n",
       "                    ).then(function(){\n",
       "                            \n",
       "var gd = document.getElementById('4a441b89-de07-4581-9a18-e7ab17b286cf');\n",
       "var x = new MutationObserver(function (mutations, observer) {{\n",
       "        var display = window.getComputedStyle(gd).display;\n",
       "        if (!display || display === 'none') {{\n",
       "            console.log([gd, 'removed!']);\n",
       "            Plotly.purge(gd);\n",
       "            observer.disconnect();\n",
       "        }}\n",
       "}});\n",
       "\n",
       "// Listen for the removal of the full notebook cells\n",
       "var notebookContainer = gd.closest('#notebook-container');\n",
       "if (notebookContainer) {{\n",
       "    x.observe(notebookContainer, {childList: true});\n",
       "}}\n",
       "\n",
       "// Listen for the clearing of the current output cell\n",
       "var outputEl = gd.closest('.output');\n",
       "if (outputEl) {{\n",
       "    x.observe(outputEl, {childList: true});\n",
       "}}\n",
       "\n",
       "                        })\n",
       "                };\n",
       "                });\n",
       "            </script>\n",
       "        </div>"
      ]
     },
     "metadata": {},
     "output_type": "display_data"
    }
   ],
   "source": [
    "x = np.array([1, 13, 25, 37, 49, 61]).reshape(-1, 1)\n",
    "y = np.array([11, 20, 20, 42, 40, 50])\n",
    "\n",
    "model = linear_model.LinearRegression()\n",
    "model.fit(x, y)\n",
    "print('intercept:', model.intercept_)\n",
    "print('slope:', *model.coef_)\n",
    "\n",
    "y_pred = model.predict(x).flatten()\n",
    "\n",
    "residuals = y - y_pred\n",
    "print('residuals:', residuals)\n",
    "\n",
    "x = x.flatten()\n",
    "\n",
    "pearson_coef, _ = stats.pearsonr(x, y)\n",
    "print('correlation coefficient:', pearson_coef)\n",
    "\n",
    "fig = pd.DataFrame({'x':x,'y':y}).iplot(x='x', y='y', mode='markers', asFigure=True)\n",
    "fig.add_trace(go.Scatter(name='Regression line', \n",
    "                         x=x,\n",
    "                         y=y_pred,\n",
    "                         text='Predicted y value',\n",
    "                         mode='lines+markers', \n",
    "                         marker={'color':\"crimson\", 'size':12},\n",
    "                         hoverinfo='text+x+y'\n",
    "                        ))\n",
    "\n",
    "fig.show()"
   ]
  },
  {
   "cell_type": "markdown",
   "metadata": {},
   "source": [
    "# Lab 8\n",
    "\n",
    "Задание:\n",
    "\n",
    "Используя СУБД MongoDB, разработайте базу данных, предназначенную  для хранения логов веб-сервера. Лог включает в себя следующие поля: адрес ресурса (URL), IP-адрес пользовательского компьютера, отметка времени начала просмотра ресурса, длительность просмотра ресурса.\n",
    "\n",
    " [Указания к заданию](#Задание)\n",
    "\n",
    "1.     Разработайте консольную утилиту для преобразования лога веб-сервера в формате CSV (Comma Separated Values), в формат JSON. Лог должен содержать поля со следующими названиями: URL, IP, timeStamp, timeSpent.\n",
    "\n",
    "2.     Разработайте запросы для загрузки полученных данных в формате JSON в СУБД MongoDB.\n",
    "\n",
    " \n",
    "\n",
    "Разработка запросов в СУБД MongoDB\n",
    "\n",
    " 1.     [Разработайте следующие запросы, используя встроенные в СУБД MongoDB средствами выборки](#Часть-1):\n",
    "\n",
    " 1)    Выдать упорядоченный список URL ресурсов.\n",
    "\n",
    " 2)    Выдать упорядоченный список IP-адресов пользователей, посетивших ресурс с заданным URL.\n",
    "\n",
    " 3)    Выдать упорядоченный список URL ресурсов, посещенных в заданный временной период.\n",
    "\n",
    " 4)    Выдать упорядоченный список URL ресурсов, посещенных пользовате-лем с заданным IP-адресом.\n",
    " <br>\n",
    "\n",
    " 2.     [Разработайте следующие запросы, используя встроенные в СУБД MongoDB средства программирования на основе парадигмы MapReduce](#Часть-2):\n",
    "\n",
    " 1)    Выдать список URL ресурсов с указанием суммарной длительности по-сещения каждого ресурса, упорядоченный по убыванию.\n",
    "\n",
    " 2)    Выдать список URL ресурсов с указанием суммарного количества посе-щений каждого ресурса, упорядоченный по убыванию.\n",
    "\n",
    " 3)    Выдать список URL ресурсов с указанием количества посещений каждого ресурса в день за заданный период, упорядоченный URL ресурса и убы-ванию количества посещений.\n",
    "\n",
    " 4)    Выдать список IP-адресов c указанием суммарного количества и суммар-ной длительности посещений ресурсов, упорядоченный по адресу, убы-ванию количества и убыванию длительности.\n",
    " \n",
    " [Source Code](#Source-Code)"
   ]
  },
  {
   "cell_type": "markdown",
   "metadata": {},
   "source": [
    "## Задание\n",
    "\n",
    "1.     Разработайте консольную утилиту для преобразования лога веб-сервера в формате CSV (Comma Separated Values), в формат JSON. Лог должен содержать поля со следующими названиями: URL, IP, timeStamp, timeSpent.\n",
    "\n",
    "2.     Разработайте запросы для загрузки полученных данных в формате JSON в СУБД MongoDB."
   ]
  },
  {
   "cell_type": "markdown",
   "metadata": {},
   "source": [
    "### Данные из csv:"
   ]
  },
  {
   "cell_type": "code",
   "execution_count": 14,
   "metadata": {},
   "outputs": [
    {
     "name": "stdout",
     "output_type": "stream",
     "text": [
      "                 ip                                                url  timestamp  time_spent\r\n",
      "0    169.198.63.121               http://attack.example.com/belief.php 2020-01-30        6632\r\n",
      "1    47.234.153.202                          http://blood.example.net/ 2020-01-12        2177\r\n",
      "2     181.191.47.83            http://bit.example.com/badge/advice.htm 2020-01-07        2044\r\n",
      "3   111.223.124.125                https://example.com/activity/attack 2020-01-07        5332\r\n",
      "4     60.212.189.52                      https://book.example.com/beef 2020-03-26        1113\r\n",
      "5      25.232.65.87       http://example.org/appliance/book#basketball 2020-02-04        1616\r\n",
      "6     63.78.228.227  https://example.com/amusement/bed.aspx?bells=b... 2020-04-09        1026\r\n",
      "7     63.78.228.227                            http://www.example.com/ 2020-04-05        2905\r\n",
      "8     82.60.164.212                                http://example.com/ 2020-03-02        6310\r\n",
      "9    116.119.208.87  http://www.example.com/box/advertisement.php#b... 2020-03-05        5439\r\n",
      "10    50.140.213.16                      https://addition.example.com/ 2020-01-27        4038\r\n",
      "11    213.84.84.178  https://example.com/?beginner=boat&bridge=achi... 2020-03-24        6770\r\n",
      "12    181.191.47.83  https://www.example.com/?afternoon=bat&bomb=bells 2020-04-21        3588\r\n",
      "13  183.121.193.139              https://www.example.com/?approval=art 2020-02-26        5737\r\n",
      "14     163.4.189.58       http://example.org/appliance/book#basketball 2020-03-17        1742\r\n",
      "15   32.144.241.177     http://www.example.com/adjustment/behavior.htm 2020-04-16        1693\r\n",
      "16    60.225.46.218                            http://www.example.com/ 2020-04-02        6260\r\n",
      "17    66.211.40.191                          https://bead.example.com/ 2020-02-27        5434\r\n",
      "18    181.191.47.83                           https://www.example.com/ 2020-03-26         886\r\n",
      "19    63.78.228.227       http://example.org/appliance/book#basketball 2020-04-07        1634\r\n",
      "\r\n",
      "[]\r\n"
     ]
    }
   ],
   "source": [
    "!python lab8.py load_data input.csv --show"
   ]
  },
  {
   "cell_type": "markdown",
   "metadata": {},
   "source": [
    "### Загрузка данных в MongoDB из csv:"
   ]
  },
  {
   "cell_type": "code",
   "execution_count": 15,
   "metadata": {
    "pycharm": {
     "name": "#%%\n"
    }
   },
   "outputs": [
    {
     "name": "stdout",
     "output_type": "stream",
     "text": [
      "Inserted data:\r\n",
      "[ObjectId('5ea352f064361aa982895ec5'),\r\n",
      " ObjectId('5ea352f064361aa982895ec6'),\r\n",
      " ObjectId('5ea352f064361aa982895ec7'),\r\n",
      " ObjectId('5ea352f064361aa982895ec8'),\r\n",
      " ObjectId('5ea352f064361aa982895ec9'),\r\n",
      " ObjectId('5ea352f064361aa982895eca'),\r\n",
      " ObjectId('5ea352f064361aa982895ecb'),\r\n",
      " ObjectId('5ea352f064361aa982895ecc'),\r\n",
      " ObjectId('5ea352f064361aa982895ecd'),\r\n",
      " ObjectId('5ea352f064361aa982895ece'),\r\n",
      " ObjectId('5ea352f064361aa982895ecf'),\r\n",
      " ObjectId('5ea352f064361aa982895ed0'),\r\n",
      " ObjectId('5ea352f064361aa982895ed1'),\r\n",
      " ObjectId('5ea352f064361aa982895ed2'),\r\n",
      " ObjectId('5ea352f064361aa982895ed3'),\r\n",
      " ObjectId('5ea352f064361aa982895ed4'),\r\n",
      " ObjectId('5ea352f064361aa982895ed5'),\r\n",
      " ObjectId('5ea352f064361aa982895ed6'),\r\n",
      " ObjectId('5ea352f064361aa982895ed7'),\r\n",
      " ObjectId('5ea352f064361aa982895ed8')]\r\n"
     ]
    }
   ],
   "source": [
    "!python lab8.py load_data input.csv"
   ]
  },
  {
   "cell_type": "markdown",
   "metadata": {},
   "source": [
    "## Часть 1\n",
    "\n",
    "Разработайте следующие запросы, используя встроенные в СУБД MongoDB средствами выборки"
   ]
  },
  {
   "cell_type": "markdown",
   "metadata": {},
   "source": [
    "1. Выдать упорядоченный список URL ресурсов"
   ]
  },
  {
   "cell_type": "code",
   "execution_count": 16,
   "metadata": {},
   "outputs": [
    {
     "name": "stdout",
     "output_type": "stream",
     "text": [
      "All unique urls:\r\n",
      "['http://attack.example.com/belief.php',\r\n",
      " 'http://bit.example.com/badge/advice.htm',\r\n",
      " 'http://blood.example.net/',\r\n",
      " 'http://example.com/',\r\n",
      " 'http://example.org/appliance/book#basketball',\r\n",
      " 'http://www.example.com/',\r\n",
      " 'http://www.example.com/adjustment/behavior.htm',\r\n",
      " 'http://www.example.com/box/advertisement.php#basketball',\r\n",
      " 'https://addition.example.com/',\r\n",
      " 'https://bead.example.com/',\r\n",
      " 'https://book.example.com/beef',\r\n",
      " 'https://example.com/?beginner=boat&bridge=achiever',\r\n",
      " 'https://example.com/activity/attack',\r\n",
      " 'https://example.com/amusement/bed.aspx?bells=bite&basin=birthday',\r\n",
      " 'https://www.example.com/',\r\n",
      " 'https://www.example.com/?afternoon=bat&bomb=bells',\r\n",
      " 'https://www.example.com/?approval=art']\r\n"
     ]
    }
   ],
   "source": [
    "!python lab8.py task1"
   ]
  },
  {
   "cell_type": "markdown",
   "metadata": {},
   "source": [
    "2. Выдать упорядоченный список IP-адресов пользователей, посетивших ресурс с заданным URL"
   ]
  },
  {
   "cell_type": "code",
   "execution_count": 17,
   "metadata": {},
   "outputs": [
    {
     "name": "stdout",
     "output_type": "stream",
     "text": [
      "All ips visited this url(http://example.org/appliance/book#basketball):\r\n",
      "['163.4.189.58', '25.232.65.87', '63.78.228.227']\r\n"
     ]
    }
   ],
   "source": [
    "!python lab8.py task2 http://example.org/appliance/book#basketball"
   ]
  },
  {
   "cell_type": "markdown",
   "metadata": {},
   "source": [
    "3. Выдать упорядоченный список URL ресурсов, посещенных в заданный временной период"
   ]
  },
  {
   "cell_type": "code",
   "execution_count": 20,
   "metadata": {},
   "outputs": [
    {
     "name": "stdout",
     "output_type": "stream",
     "text": [
      "All urls visited from 2020-01-02 10:05:30 to 2020-04-15 20:30:59:\r\n",
      "['http://attack.example.com/belief.php',\r\n",
      " 'http://bit.example.com/badge/advice.htm',\r\n",
      " 'http://blood.example.net/',\r\n",
      " 'http://example.com/',\r\n",
      " 'http://example.org/appliance/book#basketball',\r\n",
      " 'http://www.example.com/',\r\n",
      " 'http://www.example.com/box/advertisement.php#basketball',\r\n",
      " 'https://addition.example.com/',\r\n",
      " 'https://bead.example.com/',\r\n",
      " 'https://book.example.com/beef',\r\n",
      " 'https://example.com/?beginner=boat&bridge=achiever',\r\n",
      " 'https://example.com/activity/attack',\r\n",
      " 'https://example.com/amusement/bed.aspx?bells=bite&basin=birthday',\r\n",
      " 'https://www.example.com/',\r\n",
      " 'https://www.example.com/?approval=art']\r\n"
     ]
    }
   ],
   "source": [
    "!python lab8.py task3 '2020-01-02 10:05:30' '2020-04-15 20:30:59'"
   ]
  },
  {
   "cell_type": "markdown",
   "metadata": {},
   "source": [
    "4. Выдать упорядоченный список URL ресурсов, посещенных пользовате-лем с заданным IP-адресом"
   ]
  },
  {
   "cell_type": "code",
   "execution_count": 21,
   "metadata": {},
   "outputs": [
    {
     "name": "stdout",
     "output_type": "stream",
     "text": [
      "All visited urls from this ip(63.78.228.227):\r\n",
      "['http://example.org/appliance/book#basketball',\r\n",
      " 'http://www.example.com/',\r\n",
      " 'https://example.com/amusement/bed.aspx?bells=bite&basin=birthday']\r\n"
     ]
    }
   ],
   "source": [
    "!python lab8.py task4 63.78.228.227"
   ]
  },
  {
   "cell_type": "markdown",
   "metadata": {},
   "source": [
    "## Часть 2\n",
    "\n",
    "Разработайте следующие запросы, используя встроенные в СУБД MongoDB средства программирования на основе парадигмы MapReduce"
   ]
  },
  {
   "cell_type": "markdown",
   "metadata": {},
   "source": [
    "1. Выдать список URL ресурсов с указанием суммарной длительности по-сещения каждого ресурса, упорядоченный по убыванию"
   ]
  },
  {
   "cell_type": "code",
   "execution_count": 23,
   "metadata": {},
   "outputs": [
    {
     "name": "stdout",
     "output_type": "stream",
     "text": [
      "All urls with total visit time:\r\n",
      "[{'_id': 'http://www.example.com/', 'value': 9165.0},\r\n",
      " {'_id': 'https://example.com/?beginner=boat&bridge=achiever', 'value': 6770.0},\r\n",
      " {'_id': 'http://attack.example.com/belief.php', 'value': 6632.0},\r\n",
      " {'_id': 'http://example.com/', 'value': 6310.0},\r\n",
      " {'_id': 'https://www.example.com/?approval=art', 'value': 5737.0},\r\n",
      " {'_id': 'http://www.example.com/box/advertisement.php#basketball', 'value': 5439.0},\r\n",
      " {'_id': 'https://bead.example.com/', 'value': 5434.0},\r\n",
      " {'_id': 'https://example.com/activity/attack', 'value': 5332.0},\r\n",
      " {'_id': 'http://example.org/appliance/book#basketball', 'value': 4992.0},\r\n",
      " {'_id': 'https://addition.example.com/', 'value': 4038.0},\r\n",
      " {'_id': 'https://www.example.com/?afternoon=bat&bomb=bells', 'value': 3588.0},\r\n",
      " {'_id': 'http://blood.example.net/', 'value': 2177.0},\r\n",
      " {'_id': 'http://bit.example.com/badge/advice.htm', 'value': 2044.0},\r\n",
      " {'_id': 'http://www.example.com/adjustment/behavior.htm', 'value': 1693.0},\r\n",
      " {'_id': 'https://book.example.com/beef', 'value': 1113.0},\r\n",
      " {'_id': 'https://example.com/amusement/bed.aspx?bells=bite&basin=birthday', 'value': 1026.0},\r\n",
      " {'_id': 'https://www.example.com/', 'value': 886.0}]\r\n"
     ]
    }
   ],
   "source": [
    "!python lab8.py task5"
   ]
  },
  {
   "cell_type": "markdown",
   "metadata": {},
   "source": [
    "2. Выдать список URL ресурсов с указанием суммарного количества посе-щений каждого ресурса, упорядоченный по убыванию"
   ]
  },
  {
   "cell_type": "code",
   "execution_count": 24,
   "metadata": {},
   "outputs": [
    {
     "name": "stdout",
     "output_type": "stream",
     "text": [
      "All urls with visits amount:\r\n",
      "[{'_id': 'http://example.org/appliance/book#basketball', 'value': 3.0},\r\n",
      " {'_id': 'http://www.example.com/', 'value': 2.0},\r\n",
      " {'_id': 'http://attack.example.com/belief.php', 'value': 1.0},\r\n",
      " {'_id': 'http://bit.example.com/badge/advice.htm', 'value': 1.0},\r\n",
      " {'_id': 'http://blood.example.net/', 'value': 1.0},\r\n",
      " {'_id': 'http://example.com/', 'value': 1.0},\r\n",
      " {'_id': 'http://www.example.com/adjustment/behavior.htm', 'value': 1.0},\r\n",
      " {'_id': 'http://www.example.com/box/advertisement.php#basketball', 'value': 1.0},\r\n",
      " {'_id': 'https://addition.example.com/', 'value': 1.0},\r\n",
      " {'_id': 'https://bead.example.com/', 'value': 1.0},\r\n",
      " {'_id': 'https://book.example.com/beef', 'value': 1.0},\r\n",
      " {'_id': 'https://example.com/?beginner=boat&bridge=achiever', 'value': 1.0},\r\n",
      " {'_id': 'https://example.com/activity/attack', 'value': 1.0},\r\n",
      " {'_id': 'https://example.com/amusement/bed.aspx?bells=bite&basin=birthday', 'value': 1.0},\r\n",
      " {'_id': 'https://www.example.com/', 'value': 1.0},\r\n",
      " {'_id': 'https://www.example.com/?afternoon=bat&bomb=bells', 'value': 1.0},\r\n",
      " {'_id': 'https://www.example.com/?approval=art', 'value': 1.0}]\r\n"
     ]
    }
   ],
   "source": [
    "!python lab8.py task6"
   ]
  },
  {
   "cell_type": "markdown",
   "metadata": {},
   "source": [
    "3. Выдать список URL ресурсов с указанием количества посещений каждого ресурса в день за заданный период, упорядоченный URL ресурса и убы-ванию количества посещений"
   ]
  },
  {
   "cell_type": "code",
   "execution_count": 28,
   "metadata": {},
   "outputs": [
    {
     "name": "stdout",
     "output_type": "stream",
     "text": [
      "All urls with visits amount (visited in concrete datetime range):\r\n",
      "[{'_id': 'http://example.org/appliance/book#basketball', 'value': 3.0},\r\n",
      " {'_id': 'http://www.example.com/', 'value': 2.0},\r\n",
      " {'_id': 'http://example.com/', 'value': 1.0},\r\n",
      " {'_id': 'http://www.example.com/box/advertisement.php#basketball', 'value': 1.0},\r\n",
      " {'_id': 'https://bead.example.com/', 'value': 1.0},\r\n",
      " {'_id': 'https://book.example.com/beef', 'value': 1.0},\r\n",
      " {'_id': 'https://example.com/?beginner=boat&bridge=achiever', 'value': 1.0},\r\n",
      " {'_id': 'https://example.com/amusement/bed.aspx?bells=bite&basin=birthday', 'value': 1.0},\r\n",
      " {'_id': 'https://www.example.com/', 'value': 1.0},\r\n",
      " {'_id': 'https://www.example.com/?approval=art', 'value': 1.0}]\r\n"
     ]
    }
   ],
   "source": [
    "!python lab8.py task7 '2020-02-02 10:05:30' '2020-04-15 20:30:59'"
   ]
  },
  {
   "cell_type": "markdown",
   "metadata": {},
   "source": [
    "4. Выдать список IP-адресов c указанием суммарного количества и суммар-ной длительности посещений ресурсов, упорядоченный по адресу, убы-ванию количества и убыванию длительности"
   ]
  },
  {
   "cell_type": "code",
   "execution_count": 32,
   "metadata": {},
   "outputs": [
    {
     "name": "stdout",
     "output_type": "stream",
     "text": [
      "All ips with total visits amount and time spent:\r\n",
      "[{'_id': '82.60.164.212', 'value': {'total_time_spent': 6310.0, 'total_visits_count': 1.0}},\r\n",
      " {'_id': '66.211.40.191', 'value': {'total_time_spent': 5434.0, 'total_visits_count': 1.0}},\r\n",
      " {'_id': '63.78.228.227', 'value': {'total_time_spent': 5565.0, 'total_visits_count': 3.0}},\r\n",
      " {'_id': '60.225.46.218', 'value': {'total_time_spent': 6260.0, 'total_visits_count': 1.0}},\r\n",
      " {'_id': '60.212.189.52', 'value': {'total_time_spent': 1113.0, 'total_visits_count': 1.0}},\r\n",
      " {'_id': '50.140.213.16', 'value': {'total_time_spent': 4038.0, 'total_visits_count': 1.0}},\r\n",
      " {'_id': '47.234.153.202', 'value': {'total_time_spent': 2177.0, 'total_visits_count': 1.0}},\r\n",
      " {'_id': '32.144.241.177', 'value': {'total_time_spent': 1693.0, 'total_visits_count': 1.0}},\r\n",
      " {'_id': '25.232.65.87', 'value': {'total_time_spent': 1616.0, 'total_visits_count': 1.0}},\r\n",
      " {'_id': '213.84.84.178', 'value': {'total_time_spent': 6770.0, 'total_visits_count': 1.0}},\r\n",
      " {'_id': '183.121.193.139', 'value': {'total_time_spent': 5737.0, 'total_visits_count': 1.0}},\r\n",
      " {'_id': '181.191.47.83', 'value': {'total_time_spent': 6518.0, 'total_visits_count': 3.0}},\r\n",
      " {'_id': '169.198.63.121', 'value': {'total_time_spent': 6632.0, 'total_visits_count': 1.0}},\r\n",
      " {'_id': '163.4.189.58', 'value': {'total_time_spent': 1742.0, 'total_visits_count': 1.0}},\r\n",
      " {'_id': '116.119.208.87', 'value': {'total_time_spent': 5439.0, 'total_visits_count': 1.0}},\r\n",
      " {'_id': '111.223.124.125', 'value': {'total_time_spent': 5332.0, 'total_visits_count': 1.0}}]\r\n"
     ]
    }
   ],
   "source": [
    "!python lab8.py task8"
   ]
  },
  {
   "cell_type": "markdown",
   "metadata": {},
   "source": [
    "## Source Code"
   ]
  },
  {
   "cell_type": "code",
   "execution_count": null,
   "metadata": {},
   "outputs": [],
   "source": [
    "# %load lab8\n",
    "import sys\n",
    "from argparse import ArgumentParser\n",
    "from datetime import datetime\n",
    "from os import environ\n",
    "from pathlib import Path\n",
    "from pprint import pprint\n",
    "\n",
    "import pandas as pd\n",
    "from IPython.core.display import display\n",
    "from bson import Code\n",
    "from pymongo import MongoClient, DESCENDING\n",
    "\n",
    "username, password = environ.get('mongo_username'), environ.get('mongo_password')\n",
    "\n",
    "database_name, collection_name = 'db', 'visit_info'\n",
    "client = MongoClient('mongo', 27017, username=username, password=password)\n",
    "db = client[database_name]\n",
    "collection = db[collection_name]\n",
    "\n",
    "map_funcs = {\n",
    "    'task5': Code('''\n",
    "        function() {\n",
    "           emit(this.url, this.time_spent);\n",
    "        };'''),\n",
    "    'task6': Code('''\n",
    "        function() {\n",
    "           emit(this.url, 1);\n",
    "        };'''),\n",
    "    'task8': Code('''\n",
    "        function() {\n",
    "           emit(this.ip, {'total_time_spent': this.time_spent, 'total_visits_count': 1});\n",
    "        };''')\n",
    "}\n",
    "\n",
    "reduce_funcs = {\n",
    "    'task5': Code('''\n",
    "        function(url, timeSpent) {\n",
    "           return Array.sum(timeSpent);\n",
    "        };'''),\n",
    "    'task6': Code('''\n",
    "        function(url, count) {\n",
    "           return count.length;\n",
    "        };'''),\n",
    "    'task8': Code('''\n",
    "        function(url, values) {\n",
    "           return values.reduce(\n",
    "              (acc, cur) => {\n",
    "                return Object.keys(Object.assign({}, acc, cur)).reduce(\n",
    "                  (obj, k) => {obj[k] = (acc[k] || 0) + (cur[k] || 0); return obj;}, {})\n",
    "              }, \n",
    "              {'total_time_spent': 0,'total_visits_count': 0}\n",
    "           );\n",
    "        };''')\n",
    "}\n",
    "\n",
    "\n",
    "def load_data(args):\n",
    "    data = pd.read_csv(args.path, header=0, parse_dates=['timestamp'])\n",
    "    records = data.to_dict(orient='records')\n",
    "    if args.show:\n",
    "        with pd.option_context('display.max_rows', None, 'display.max_columns', None, 'display.width', None):\n",
    "            display(data)\n",
    "        return '', []\n",
    "    collection.delete_many({})\n",
    "    return 'Inserted data:', collection.insert_many(records).inserted_ids\n",
    "\n",
    "\n",
    "def task1(*args):\n",
    "    unique_urls = collection.distinct('url')\n",
    "    return 'All unique urls:', unique_urls\n",
    "\n",
    "\n",
    "def task2(args):\n",
    "    url = args.url\n",
    "    ips = collection \\\n",
    "        .find({'url': url}, {'_id': False, 'ip': True}) \\\n",
    "        .distinct('ip')\n",
    "    return f'All ips visited this url({url}):', ips\n",
    "\n",
    "\n",
    "def task3(args):\n",
    "    from_datetime, to_datetime = args.dates\n",
    "    urls_visited_in_date_range = collection \\\n",
    "        .find({'timestamp': {'$lte': to_datetime, '$gte': from_datetime}}) \\\n",
    "        .distinct('url')\n",
    "    return f'All urls visited from {from_datetime} to {to_datetime}:', urls_visited_in_date_range\n",
    "\n",
    "\n",
    "def task4(args):\n",
    "    ip = args.ip\n",
    "    visited_by_user_urls = collection \\\n",
    "        .find({'ip': ip}, {'_id': False, 'url': True}) \\\n",
    "        .distinct('url')\n",
    "    return f'All visited urls from this ip({ip}):', visited_by_user_urls\n",
    "\n",
    "\n",
    "def task5(*args):\n",
    "    results = collection \\\n",
    "        .map_reduce(map_funcs['task5'], reduce_funcs['task5'], 'records') \\\n",
    "        .find() \\\n",
    "        .sort('value', DESCENDING)\n",
    "    return 'All urls with total visit time:', list(results)\n",
    "\n",
    "\n",
    "def task6(*args):\n",
    "    results = collection \\\n",
    "        .map_reduce(map_funcs['task6'], reduce_funcs['task6'], 'records') \\\n",
    "        .find() \\\n",
    "        .sort('value', DESCENDING)\n",
    "    return 'All urls with visits amount:', list(results)\n",
    "\n",
    "\n",
    "def task7(args):\n",
    "    from_datetime, to_datetime = args.dates\n",
    "    results = collection \\\n",
    "        .map_reduce(map_funcs['task6'], reduce_funcs['task6'], 'records', query={\n",
    "            'timestamp': {'$lte': to_datetime, '$gte': from_datetime}}) \\\n",
    "        .find() \\\n",
    "        .sort('value', DESCENDING)\n",
    "\n",
    "    return 'All urls with visits amount (visited in concrete datetime range):', list(results)\n",
    "\n",
    "\n",
    "def task8(args):\n",
    "    default_sort_list = [\n",
    "        ('_id', DESCENDING),\n",
    "        ('value.total_time_spent', DESCENDING),\n",
    "        ('value.total_visits_count', DESCENDING)\n",
    "    ]\n",
    "    sort_list = [default_sort_list[i] for i in args.order]\n",
    "    results = collection \\\n",
    "        .map_reduce(map_funcs['task8'], reduce_funcs['task8'], 'records') \\\n",
    "        .find() \\\n",
    "        .sort(sort_list)\n",
    "    return 'All ips with total visits amount and time spent:', list(results)\n",
    "\n",
    "\n",
    "def _create_parser():\n",
    "    parser = ArgumentParser()\n",
    "    subparsers = parser.add_subparsers()\n",
    "\n",
    "    load_data_parser = subparsers.add_parser('load_data')\n",
    "    load_data_parser.add_argument('path', nargs='?', type=Path)\n",
    "    load_data_parser.add_argument('-s', '--show', action='store_true', default=False)\n",
    "    load_data_parser.set_defaults(func=load_data)\n",
    "\n",
    "    task1_parser = subparsers.add_parser('task1')\n",
    "    task1_parser.set_defaults(func=task1)\n",
    "\n",
    "    task5_parser = subparsers.add_parser('task5')\n",
    "    task5_parser.set_defaults(func=task5)\n",
    "\n",
    "    task6_parser = subparsers.add_parser('task6')\n",
    "    task6_parser.set_defaults(func=task6)\n",
    "\n",
    "    task2_parser = subparsers.add_parser('task2')\n",
    "    task2_parser.add_argument('url', nargs='?', type=str)\n",
    "    task2_parser.set_defaults(func=task2)\n",
    "\n",
    "    task3_parser = subparsers.add_parser('task3')\n",
    "    task3_parser.add_argument('dates', nargs=2, type=datetime.fromisoformat)\n",
    "    task3_parser.set_defaults(func=task3)\n",
    "\n",
    "    task4_parser = subparsers.add_parser('task4')\n",
    "    task4_parser.add_argument('ip', nargs='?', type=str)\n",
    "    task4_parser.set_defaults(func=task4)\n",
    "\n",
    "    task7_parser = subparsers.add_parser('task7')\n",
    "    task7_parser.add_argument('dates', nargs=2, type=datetime.fromisoformat)\n",
    "    task7_parser.set_defaults(func=task7)\n",
    "\n",
    "    task8_parser = subparsers.add_parser('task8')\n",
    "    task8_parser.add_argument('-o', '--order', nargs='+', type=int, default=[0, 1, 2], choices=range(3))\n",
    "    task8_parser.set_defaults(func=task8)\n",
    "\n",
    "    return parser\n",
    "\n",
    "\n",
    "def main():\n",
    "    parser = _create_parser()\n",
    "    args = parser.parse_args(sys.argv[1:])\n",
    "\n",
    "    title, values = getattr(args, 'func', lambda v: print('Error!'))(args)\n",
    "    print(title)\n",
    "    pprint(values, indent=1, width=120)\n",
    "\n",
    "\n",
    "if __name__ == '__main__':\n",
    "    main()\n"
   ]
  },
  {
   "cell_type": "code",
   "execution_count": null,
   "metadata": {},
   "outputs": [],
   "source": []
  }
 ],
 "metadata": {
  "kernelspec": {
   "display_name": "Python 3",
   "language": "python",
   "name": "python3"
  },
  "language_info": {
   "codemirror_mode": {
    "name": "ipython",
    "version": 3
   },
   "file_extension": ".py",
   "mimetype": "text/x-python",
   "name": "python",
   "nbconvert_exporter": "python",
   "pygments_lexer": "ipython3",
   "version": "3.8.2"
  }
 },
 "nbformat": 4,
 "nbformat_minor": 1
}
