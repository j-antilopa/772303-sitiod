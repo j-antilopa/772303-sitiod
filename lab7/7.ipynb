{
 "cells": [
  {
   "cell_type": "code",
   "execution_count": 1,
   "metadata": {},
   "outputs": [
    {
     "name": "stderr",
     "output_type": "stream",
     "text": [
      "Using TensorFlow backend.\n"
     ]
    }
   ],
   "source": [
    "import keras\n",
    "import numpy as np\n",
    "import matplotlib.pyplot as plt\n",
    "from random import randint"
   ]
  },
  {
   "cell_type": "code",
   "execution_count": 3,
   "metadata": {},
   "outputs": [
    {
     "name": "stdout",
     "output_type": "stream",
     "text": [
      "Epoch 1/30\n",
      "500/500 [==============================] - 0s 111us/step - loss: 9822.6447 - accuracy: 0.0100\n",
      "Epoch 2/30\n",
      "500/500 [==============================] - 0s 41us/step - loss: 368.7623 - accuracy: 0.0160\n",
      "Epoch 3/30\n",
      "500/500 [==============================] - 0s 42us/step - loss: 398.2975 - accuracy: 0.0180\n",
      "Epoch 4/30\n",
      "500/500 [==============================] - 0s 43us/step - loss: 565.4628 - accuracy: 0.0120\n",
      "Epoch 5/30\n",
      "500/500 [==============================] - 0s 47us/step - loss: 640.3474 - accuracy: 0.0220\n",
      "Epoch 6/30\n",
      "500/500 [==============================] - 0s 36us/step - loss: 529.5907 - accuracy: 0.0160\n",
      "Epoch 7/30\n",
      "500/500 [==============================] - 0s 56us/step - loss: 584.8580 - accuracy: 0.0140\n",
      "Epoch 8/30\n",
      "500/500 [==============================] - 0s 48us/step - loss: 477.8242 - accuracy: 0.0240\n",
      "Epoch 9/30\n",
      "500/500 [==============================] - 0s 42us/step - loss: 542.4561 - accuracy: 0.0200\n",
      "Epoch 10/30\n",
      "500/500 [==============================] - 0s 42us/step - loss: 540.7810 - accuracy: 0.0180\n",
      "Epoch 11/30\n",
      "500/500 [==============================] - 0s 47us/step - loss: 456.3569 - accuracy: 0.0180\n",
      "Epoch 12/30\n",
      "500/500 [==============================] - 0s 43us/step - loss: 510.7233 - accuracy: 0.0160\n",
      "Epoch 13/30\n",
      "500/500 [==============================] - 0s 34us/step - loss: 547.9125 - accuracy: 0.0040\n",
      "Epoch 14/30\n",
      "500/500 [==============================] - 0s 56us/step - loss: 497.0761 - accuracy: 0.0120\n",
      "Epoch 15/30\n",
      "500/500 [==============================] - 0s 47us/step - loss: 474.1064 - accuracy: 0.0260\n",
      "Epoch 16/30\n",
      "500/500 [==============================] - 0s 45us/step - loss: 461.0027 - accuracy: 0.0180\n",
      "Epoch 17/30\n",
      "500/500 [==============================] - 0s 39us/step - loss: 559.3371 - accuracy: 0.0120\n",
      "Epoch 18/30\n",
      "500/500 [==============================] - 0s 55us/step - loss: 514.2680 - accuracy: 0.0200\n",
      "Epoch 19/30\n",
      "500/500 [==============================] - 0s 51us/step - loss: 508.4822 - accuracy: 0.0140\n",
      "Epoch 20/30\n",
      "500/500 [==============================] - 0s 53us/step - loss: 415.4998 - accuracy: 0.0220\n",
      "Epoch 21/30\n",
      "500/500 [==============================] - 0s 45us/step - loss: 535.2812 - accuracy: 0.0180\n",
      "Epoch 22/30\n",
      "500/500 [==============================] - 0s 40us/step - loss: 509.1514 - accuracy: 0.0340\n",
      "Epoch 23/30\n",
      "500/500 [==============================] - 0s 57us/step - loss: 460.1811 - accuracy: 0.0220\n",
      "Epoch 24/30\n",
      "500/500 [==============================] - 0s 52us/step - loss: 469.7994 - accuracy: 0.0140\n",
      "Epoch 25/30\n",
      "500/500 [==============================] - 0s 52us/step - loss: 445.3189 - accuracy: 0.0200\n",
      "Epoch 26/30\n",
      "500/500 [==============================] - 0s 42us/step - loss: 381.9826 - accuracy: 0.0200\n",
      "Epoch 27/30\n",
      "500/500 [==============================] - 0s 49us/step - loss: 474.4930 - accuracy: 0.0140\n",
      "Epoch 28/30\n",
      "500/500 [==============================] - 0s 52us/step - loss: 460.0549 - accuracy: 0.0240\n",
      "Epoch 29/30\n",
      "500/500 [==============================] - 0s 53us/step - loss: 476.0534 - accuracy: 0.0120\n",
      "Epoch 30/30\n",
      "500/500 [==============================] - 0s 59us/step - loss: 547.3374 - accuracy: 0.0160\n"
     ]
    },
    {
     "data": {
      "image/png": "[encoded data removed]",
      "text/plain": [
       "<Figure size 432x288 with 1 Axes>"
      ]
     },
     "metadata": {
      "needs_background": "light"
     },
     "output_type": "display_data"
    }
   ],
   "source": [
    "optimizer = keras.optimizers.RMSprop(0.1)\n",
    "\n",
    "x = np.arange(500)\n",
    "y = np.array([randint(0, 50) + i for i in x], dtype=\"float16\")\n",
    "\n",
    "model = keras.Sequential()\n",
    "model.add(keras.layers.Dense(1, input_shape=[1], activation='relu'))\n",
    "model.compile(optimizer=optimizer, loss='mse', metrics=['accuracy'])\n",
    "\n",
    "model.fit(x, y, epochs=30)\n",
    "\n",
    "y_prediction = model.predict(x)\n",
    "\n",
    "plt.scatter(x, y, s=0.8, label=\"initial\", color=\"red\")\n",
    "plt.plot(x, y_prediction, label=\"prediction\", color=\"blue\")\n",
    "plt.legend()\n",
    "\n",
    "plt.show()"
   ]
  }
 ],
 "metadata": {
  "kernelspec": {
   "display_name": "Python 3",
   "language": "python",
   "name": "python3"
  },
  "language_info": {
   "codemirror_mode": {
    "name": "ipython",
    "version": 3
   },
   "file_extension": ".py",
   "mimetype": "text/x-python",
   "name": "python",
   "nbconvert_exporter": "python",
   "pygments_lexer": "ipython3",
   "version": "3.8.0"
  }
 },
 "nbformat": 4,
 "nbformat_minor": 4
}
